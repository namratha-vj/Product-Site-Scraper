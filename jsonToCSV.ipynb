{
 "cells": [
  {
   "cell_type": "code",
   "execution_count": 1,
   "id": "initial_id",
   "metadata": {
    "collapsed": true,
    "ExecuteTime": {
     "end_time": "2024-03-17T14:48:27.757131Z",
     "start_time": "2024-03-17T14:48:25.009013Z"
    }
   },
   "outputs": [],
   "source": [
    "import json\n",
    "import os\n",
    "import pandas as pd\n",
    "\n",
    "\n",
    "def get_json_files():\n",
    "    json_files = []\n",
    "    for file in os.listdir(\"rawdata\"):\n",
    "        if file.endswith(\".json\"):\n",
    "            json_files.append(file)\n",
    "    return json_files\n",
    "\n",
    "\n",
    "all_files = get_json_files()"
   ]
  },
  {
   "cell_type": "code",
   "outputs": [],
   "source": [
    "data = pd.read_json(\"rawdata/\" + all_files[1])"
   ],
   "metadata": {
    "collapsed": false,
    "ExecuteTime": {
     "end_time": "2024-03-17T14:48:30.694494Z",
     "start_time": "2024-03-17T14:48:30.656480Z"
    }
   },
   "id": "24e44ab1ab16a7ec",
   "execution_count": 2
  },
  {
   "cell_type": "code",
   "outputs": [
    {
     "data": {
      "text/plain": "                                               title  \\\n0  Get Well Sunshine Gift Hamper <br/>(Get Well S...   \n1  Recovery Treats Gift Hamper <br/>(Get Well Soo...   \n2  To Perk You Up Gift Hamper <br/>(Get Well Soon...   \n3  A Little Bit Of Calm Gift Hamper <br/>(Get Wel...   \n4  Coffee Connoisseur's Dream Gift Hamper <br/>(G...   \n\n                                        image_source   price  \\\n0  https://www.gifthampersuk.co.uk/image/cache/ca...  £50.00   \n1  https://www.gifthampersuk.co.uk/image/cache/ca...  £45.00   \n2  https://www.gifthampersuk.co.uk/image/cache/ca...  £43.00   \n3  https://www.gifthampersuk.co.uk/image/cache/ca...  £60.00   \n4  https://www.gifthampersuk.co.uk/image/cache/ca...  £50.00   \n\n                                         description  \\\n0  Hamper ContentsAll Around The Fire Hot Chocola...   \n1  Hamper Contents\\r\\nAlchemy Tea Rest and Recupe...   \n2  Hamper Contents\\r\\nAnna’s Cappuccino Thins (15...   \n3  Hamper Contents\\r\\nAlchemy Tea Howick Earl Gre...   \n4  Hamper ContentsGIFT ITEM: Life & Soul Cafetier...   \n\n                                         product_url  \n0  https://www.gifthampersuk.co.uk/care-hampers/g...  \n1  https://www.gifthampersuk.co.uk/care-hampers/r...  \n2  https://www.gifthampersuk.co.uk/care-hampers/a...  \n3  https://www.gifthampersuk.co.uk/care-hampers/a...  \n4  https://www.gifthampersuk.co.uk/care-hampers/c...  ",
      "text/html": "<div>\n<style scoped>\n    .dataframe tbody tr th:only-of-type {\n        vertical-align: middle;\n    }\n\n    .dataframe tbody tr th {\n        vertical-align: top;\n    }\n\n    .dataframe thead th {\n        text-align: right;\n    }\n</style>\n<table border=\"1\" class=\"dataframe\">\n  <thead>\n    <tr style=\"text-align: right;\">\n      <th></th>\n      <th>title</th>\n      <th>image_source</th>\n      <th>price</th>\n      <th>description</th>\n      <th>product_url</th>\n    </tr>\n  </thead>\n  <tbody>\n    <tr>\n      <th>0</th>\n      <td>Get Well Sunshine Gift Hamper &lt;br/&gt;(Get Well S...</td>\n      <td>https://www.gifthampersuk.co.uk/image/cache/ca...</td>\n      <td>£50.00</td>\n      <td>Hamper ContentsAll Around The Fire Hot Chocola...</td>\n      <td>https://www.gifthampersuk.co.uk/care-hampers/g...</td>\n    </tr>\n    <tr>\n      <th>1</th>\n      <td>Recovery Treats Gift Hamper &lt;br/&gt;(Get Well Soo...</td>\n      <td>https://www.gifthampersuk.co.uk/image/cache/ca...</td>\n      <td>£45.00</td>\n      <td>Hamper Contents\\r\\nAlchemy Tea Rest and Recupe...</td>\n      <td>https://www.gifthampersuk.co.uk/care-hampers/r...</td>\n    </tr>\n    <tr>\n      <th>2</th>\n      <td>To Perk You Up Gift Hamper &lt;br/&gt;(Get Well Soon...</td>\n      <td>https://www.gifthampersuk.co.uk/image/cache/ca...</td>\n      <td>£43.00</td>\n      <td>Hamper Contents\\r\\nAnna’s Cappuccino Thins (15...</td>\n      <td>https://www.gifthampersuk.co.uk/care-hampers/a...</td>\n    </tr>\n    <tr>\n      <th>3</th>\n      <td>A Little Bit Of Calm Gift Hamper &lt;br/&gt;(Get Wel...</td>\n      <td>https://www.gifthampersuk.co.uk/image/cache/ca...</td>\n      <td>£60.00</td>\n      <td>Hamper Contents\\r\\nAlchemy Tea Howick Earl Gre...</td>\n      <td>https://www.gifthampersuk.co.uk/care-hampers/a...</td>\n    </tr>\n    <tr>\n      <th>4</th>\n      <td>Coffee Connoisseur's Dream Gift Hamper &lt;br/&gt;(G...</td>\n      <td>https://www.gifthampersuk.co.uk/image/cache/ca...</td>\n      <td>£50.00</td>\n      <td>Hamper ContentsGIFT ITEM: Life &amp; Soul Cafetier...</td>\n      <td>https://www.gifthampersuk.co.uk/care-hampers/c...</td>\n    </tr>\n  </tbody>\n</table>\n</div>"
     },
     "execution_count": 3,
     "metadata": {},
     "output_type": "execute_result"
    }
   ],
   "source": [
    "data.head()"
   ],
   "metadata": {
    "collapsed": false,
    "ExecuteTime": {
     "end_time": "2024-03-17T14:48:33.139797Z",
     "start_time": "2024-03-17T14:48:33.124246Z"
    }
   },
   "id": "ba83a46c1a2e18fb",
   "execution_count": 3
  },
  {
   "cell_type": "code",
   "outputs": [
    {
     "name": "stdout",
     "output_type": "stream",
     "text": [
      "Scraped 0 of 9\n",
      "Scraped 1 of 9\n",
      "Scraped 2 of 9\n",
      "Scraped 3 of 9\n",
      "Scraped 4 of 9\n",
      "Scraped 5 of 9\n",
      "Scraped 6 of 9\n",
      "Scraped 7 of 9\n",
      "Scraped 8 of 9\n"
     ]
    }
   ],
   "source": [
    "from main import get_soup\n",
    "from individualScraper import individual_product_info, dump_product_info\n",
    "\n",
    "data = pd.read_json(\"rawdata/\" + all_files[1])\n",
    "\n",
    "product_data_list_ = []\n",
    "for index, row in data.iterrows():\n",
    "    url = row[\"product_url\"]\n",
    "    soup = get_soup(url)\n",
    "    product_info = individual_product_info(soup, product_url=url)\n",
    "    product_data_list_.append(product_info)\n",
    "    print(f\"Scraped {index} of {len(data)}\")\n",
    "\n",
    "csv_file_name = f\"rawdata/{all_files[1].split('.')[0]}.csv\"\n",
    "dump_product_info(product_data_list_, csv_file_name)"
   ],
   "metadata": {
    "collapsed": false,
    "ExecuteTime": {
     "end_time": "2024-03-17T14:52:22.758540Z",
     "start_time": "2024-03-17T14:52:12.872340Z"
    }
   },
   "id": "562f6195565445ef",
   "execution_count": 5
  }
 ],
 "metadata": {
  "kernelspec": {
   "display_name": "Python 3",
   "language": "python",
   "name": "python3"
  },
  "language_info": {
   "codemirror_mode": {
    "name": "ipython",
    "version": 2
   },
   "file_extension": ".py",
   "mimetype": "text/x-python",
   "name": "python",
   "nbconvert_exporter": "python",
   "pygments_lexer": "ipython2",
   "version": "2.7.6"
  }
 },
 "nbformat": 4,
 "nbformat_minor": 5
}
