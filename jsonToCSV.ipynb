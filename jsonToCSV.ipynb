{
 "cells": [
  {
   "cell_type": "code",
   "execution_count": 40,
   "id": "initial_id",
   "metadata": {
    "collapsed": true,
    "ExecuteTime": {
     "end_time": "2024-03-16T20:29:32.500221Z",
     "start_time": "2024-03-16T20:29:32.490392Z"
    }
   },
   "outputs": [],
   "source": [
    "import json\n",
    "import os\n",
    "import pandas as pd\n",
    "\n",
    "\n",
    "def get_json_files():\n",
    "    json_files = []\n",
    "    for file in os.listdir(\"rawdata\"):\n",
    "        if file.endswith(\".json\"):\n",
    "            json_files.append(file)\n",
    "    return json_files\n",
    "\n",
    "\n",
    "all_files = get_json_files()"
   ]
  },
  {
   "cell_type": "code",
   "outputs": [],
   "source": [
    "data = pd.read_json(\"rawdata/\" + all_files[1])"
   ],
   "metadata": {
    "collapsed": false,
    "ExecuteTime": {
     "end_time": "2024-03-16T20:29:32.517037Z",
     "start_time": "2024-03-16T20:29:32.503665Z"
    }
   },
   "id": "24e44ab1ab16a7ec",
   "execution_count": 41
  },
  {
   "cell_type": "code",
   "outputs": [
    {
     "data": {
      "text/plain": "                                               title  \\\n0  Get Well Sunshine Gift Hamper <br/>(Get Well S...   \n1  Recovery Treats Gift Hamper <br/>(Get Well Soo...   \n2  To Perk You Up Gift Hamper <br/>(Get Well Soon...   \n3  A Little Bit Of Calm Gift Hamper <br/>(Get Wel...   \n4  Coffee Connoisseur's Dream Gift Hamper <br/>(G...   \n\n                                        image_source   price  \\\n0  https://www.gifthampersuk.co.uk/image/cache/ca...  £50.00   \n1  https://www.gifthampersuk.co.uk/image/cache/ca...  £45.00   \n2  https://www.gifthampersuk.co.uk/image/cache/ca...  £43.00   \n3  https://www.gifthampersuk.co.uk/image/cache/ca...  £60.00   \n4  https://www.gifthampersuk.co.uk/image/cache/ca...  £50.00   \n\n                                         description  \\\n0  Hamper ContentsAll Around The Fire Hot Chocola...   \n1  Hamper Contents\\r\\nAlchemy Tea Rest and Recupe...   \n2  Hamper Contents\\r\\nAnna’s Cappuccino Thins (15...   \n3  Hamper Contents\\r\\nAlchemy Tea Howick Earl Gre...   \n4  Hamper ContentsGIFT ITEM: Life & Soul Cafetier...   \n\n                                         product_url  \n0  https://www.gifthampersuk.co.uk/care-hampers/g...  \n1  https://www.gifthampersuk.co.uk/care-hampers/r...  \n2  https://www.gifthampersuk.co.uk/care-hampers/a...  \n3  https://www.gifthampersuk.co.uk/care-hampers/a...  \n4  https://www.gifthampersuk.co.uk/care-hampers/c...  ",
      "text/html": "<div>\n<style scoped>\n    .dataframe tbody tr th:only-of-type {\n        vertical-align: middle;\n    }\n\n    .dataframe tbody tr th {\n        vertical-align: top;\n    }\n\n    .dataframe thead th {\n        text-align: right;\n    }\n</style>\n<table border=\"1\" class=\"dataframe\">\n  <thead>\n    <tr style=\"text-align: right;\">\n      <th></th>\n      <th>title</th>\n      <th>image_source</th>\n      <th>price</th>\n      <th>description</th>\n      <th>product_url</th>\n    </tr>\n  </thead>\n  <tbody>\n    <tr>\n      <th>0</th>\n      <td>Get Well Sunshine Gift Hamper &lt;br/&gt;(Get Well S...</td>\n      <td>https://www.gifthampersuk.co.uk/image/cache/ca...</td>\n      <td>£50.00</td>\n      <td>Hamper ContentsAll Around The Fire Hot Chocola...</td>\n      <td>https://www.gifthampersuk.co.uk/care-hampers/g...</td>\n    </tr>\n    <tr>\n      <th>1</th>\n      <td>Recovery Treats Gift Hamper &lt;br/&gt;(Get Well Soo...</td>\n      <td>https://www.gifthampersuk.co.uk/image/cache/ca...</td>\n      <td>£45.00</td>\n      <td>Hamper Contents\\r\\nAlchemy Tea Rest and Recupe...</td>\n      <td>https://www.gifthampersuk.co.uk/care-hampers/r...</td>\n    </tr>\n    <tr>\n      <th>2</th>\n      <td>To Perk You Up Gift Hamper &lt;br/&gt;(Get Well Soon...</td>\n      <td>https://www.gifthampersuk.co.uk/image/cache/ca...</td>\n      <td>£43.00</td>\n      <td>Hamper Contents\\r\\nAnna’s Cappuccino Thins (15...</td>\n      <td>https://www.gifthampersuk.co.uk/care-hampers/a...</td>\n    </tr>\n    <tr>\n      <th>3</th>\n      <td>A Little Bit Of Calm Gift Hamper &lt;br/&gt;(Get Wel...</td>\n      <td>https://www.gifthampersuk.co.uk/image/cache/ca...</td>\n      <td>£60.00</td>\n      <td>Hamper Contents\\r\\nAlchemy Tea Howick Earl Gre...</td>\n      <td>https://www.gifthampersuk.co.uk/care-hampers/a...</td>\n    </tr>\n    <tr>\n      <th>4</th>\n      <td>Coffee Connoisseur's Dream Gift Hamper &lt;br/&gt;(G...</td>\n      <td>https://www.gifthampersuk.co.uk/image/cache/ca...</td>\n      <td>£50.00</td>\n      <td>Hamper ContentsGIFT ITEM: Life &amp; Soul Cafetier...</td>\n      <td>https://www.gifthampersuk.co.uk/care-hampers/c...</td>\n    </tr>\n  </tbody>\n</table>\n</div>"
     },
     "execution_count": 42,
     "metadata": {},
     "output_type": "execute_result"
    }
   ],
   "source": [
    "data.head()"
   ],
   "metadata": {
    "collapsed": false,
    "ExecuteTime": {
     "end_time": "2024-03-16T20:29:32.534136Z",
     "start_time": "2024-03-16T20:29:32.519520Z"
    }
   },
   "id": "ba83a46c1a2e18fb",
   "execution_count": 42
  },
  {
   "cell_type": "code",
   "outputs": [
    {
     "ename": "TypeError",
     "evalue": "individual_product_info() takes 1 positional argument but 2 were given",
     "output_type": "error",
     "traceback": [
      "\u001B[1;31m---------------------------------------------------------------------------\u001B[0m",
      "\u001B[1;31mTypeError\u001B[0m                                 Traceback (most recent call last)",
      "Cell \u001B[1;32mIn[43], line 8\u001B[0m\n\u001B[0;32m      6\u001B[0m url \u001B[38;5;241m=\u001B[39m row[\u001B[38;5;124m\"\u001B[39m\u001B[38;5;124mproduct_url\u001B[39m\u001B[38;5;124m\"\u001B[39m]\n\u001B[0;32m      7\u001B[0m soup \u001B[38;5;241m=\u001B[39m get_soup(url)\n\u001B[1;32m----> 8\u001B[0m product_info \u001B[38;5;241m=\u001B[39m \u001B[43mindividual_product_info\u001B[49m\u001B[43m(\u001B[49m\u001B[43msoup\u001B[49m\u001B[43m,\u001B[49m\u001B[43m \u001B[49m\u001B[43murl\u001B[49m\u001B[43m)\u001B[49m\n\u001B[0;32m      9\u001B[0m product_data_list_\u001B[38;5;241m.\u001B[39mappend(product_info)\n\u001B[0;32m     10\u001B[0m \u001B[38;5;28mprint\u001B[39m(\u001B[38;5;124mf\u001B[39m\u001B[38;5;124m\"\u001B[39m\u001B[38;5;124mScraped \u001B[39m\u001B[38;5;132;01m{\u001B[39;00mindex\u001B[38;5;132;01m}\u001B[39;00m\u001B[38;5;124m of \u001B[39m\u001B[38;5;132;01m{\u001B[39;00m\u001B[38;5;28mlen\u001B[39m(data)\u001B[38;5;132;01m}\u001B[39;00m\u001B[38;5;124m\"\u001B[39m)\n",
      "\u001B[1;31mTypeError\u001B[0m: individual_product_info() takes 1 positional argument but 2 were given"
     ]
    }
   ],
   "source": [
    "from main import get_soup\n",
    "from individualScraper import individual_product_info, dump_product_info\n",
    "\n",
    "product_data_list_ = []\n",
    "for index, row in data.iterrows():\n",
    "    url = row[\"product_url\"]\n",
    "    soup = get_soup(url)\n",
    "    product_info = individual_product_info(soup, url)\n",
    "    product_data_list_.append(product_info)\n",
    "    print(f\"Scraped {index} of {len(data)}\")\n",
    "\n",
    "csv_file_name = \"product_data.csv\"\n",
    "dump_product_info(product_data_list_, csv_file_name)"
   ],
   "metadata": {
    "collapsed": false,
    "ExecuteTime": {
     "end_time": "2024-03-16T20:29:33.373606Z",
     "start_time": "2024-03-16T20:29:32.536384Z"
    }
   },
   "id": "562f6195565445ef",
   "execution_count": 43
  }
 ],
 "metadata": {
  "kernelspec": {
   "display_name": "Python 3",
   "language": "python",
   "name": "python3"
  },
  "language_info": {
   "codemirror_mode": {
    "name": "ipython",
    "version": 2
   },
   "file_extension": ".py",
   "mimetype": "text/x-python",
   "name": "python",
   "nbconvert_exporter": "python",
   "pygments_lexer": "ipython2",
   "version": "2.7.6"
  }
 },
 "nbformat": 4,
 "nbformat_minor": 5
}
