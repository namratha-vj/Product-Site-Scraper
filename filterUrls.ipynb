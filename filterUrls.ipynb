{
 "cells": [
  {
   "cell_type": "code",
   "execution_count": null,
   "id": "initial_id",
   "metadata": {
    "collapsed": true
   },
   "outputs": [],
   "source": [
    "import json\n",
    "import re\n",
    "import pandas as pd"
   ]
  },
  {
   "cell_type": "code",
   "outputs": [],
   "source": [
    "df = pd.read_json('rawdata/myharvestfarms/json_urls.json')"
   ],
   "metadata": {
    "collapsed": false
   },
   "id": "d795b752d7f7315b"
  },
  {
   "cell_type": "code",
   "outputs": [],
   "source": [
    "df.info()"
   ],
   "metadata": {
    "collapsed": false
   },
   "id": "c410164aa880a61d"
  },
  {
   "cell_type": "code",
   "outputs": [],
   "source": [
    "def filter_product_urls(df):\n",
    "    # Regex pattern that matches URLs that contain '/product/' or similar structures\n",
    "    product_url_pattern = re.compile(r'https?://www\\.neidhal\\.com/product/[^ ]+')\n",
    "    product_urls_ = df[df['url'].str.contains(product_url_pattern)]\n",
    "    return product_urls_"
   ],
   "metadata": {
    "collapsed": false
   },
   "id": "533f9db0ea3db341"
  },
  {
   "cell_type": "code",
   "outputs": [],
   "source": [
    "def any_filter_product_urls(df):\n",
    "    # Regex pattern that matches URLs that contain '/product/' for any domain\n",
    "    product_url_pattern = re.compile(r'https?://[^/]+/product/[^ ]+')\n",
    "    df['match'] = df['url'].apply(lambda x: bool(product_url_pattern.search(x)))\n",
    "    product_urls_ = df[df['match']]\n",
    "    return product_urls_"
   ],
   "metadata": {
    "collapsed": false
   },
   "id": "26a54e0f2ba07a9e"
  },
  {
   "cell_type": "code",
   "outputs": [],
   "source": [
    "# Filter product URLs\n",
    "product_urls = filter_product_urls(df)\n",
    "any_product_urls = any_filter_product_urls(df)"
   ],
   "metadata": {
    "collapsed": false
   },
   "id": "78773d05f1f8a93b"
  },
  {
   "cell_type": "code",
   "outputs": [],
   "source": [
    "any_product_urls"
   ],
   "metadata": {
    "collapsed": false
   },
   "id": "98507bc7ac1b2244"
  },
  {
   "cell_type": "code",
   "outputs": [],
   "source": [
    "# save to csv\n",
    "any_product_urls.to_csv('rawdata/myharvestfarms/product_urls.csv', index=False)"
   ],
   "metadata": {
    "collapsed": false
   },
   "id": "39243c6fa74a4856"
  },
  {
   "cell_type": "code",
   "outputs": [],
   "source": [
    "from newfetchUrl import get_soup\n",
    "\n",
    "for url in any_product_urls['url']:\n",
    "    soup = get_soup(url, use_selenium=True)\n",
    "    print(soup.title.text)"
   ],
   "metadata": {
    "collapsed": false
   },
   "id": "8ffd10303b93df80"
  },
  {
   "cell_type": "code",
   "outputs": [],
   "source": [
    "from generalScraper import process_url\n",
    "\n",
    "for url in any_product_urls['url']:\n",
    "    process_url(url)"
   ],
   "metadata": {
    "collapsed": false
   },
   "id": "194466db67eadb91"
  }
 ],
 "metadata": {
  "kernelspec": {
   "display_name": "Python 3",
   "language": "python",
   "name": "python3"
  },
  "language_info": {
   "codemirror_mode": {
    "name": "ipython",
    "version": 2
   },
   "file_extension": ".py",
   "mimetype": "text/x-python",
   "name": "python",
   "nbconvert_exporter": "python",
   "pygments_lexer": "ipython2",
   "version": "2.7.6"
  }
 },
 "nbformat": 4,
 "nbformat_minor": 5
}
