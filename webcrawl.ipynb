{
 "cells": [
  {
   "cell_type": "code",
   "execution_count": 1,
   "id": "initial_id",
   "metadata": {
    "collapsed": true,
    "ExecuteTime": {
     "end_time": "2024-03-16T15:54:51.400690Z",
     "start_time": "2024-03-16T15:54:49.555340Z"
    }
   },
   "outputs": [],
   "source": [
    "import requests\n",
    "from bs4 import BeautifulSoup\n",
    "\n",
    "product_urls = [\"https://www.gifthampersuk.co.uk/chocolate-mountain-gift-hamper-uk\",\n",
    "                \"https://www.gifthampersuk.co.uk/gift-hampers/sunshine-and-smiles-gift-hamper-uk\"]\n",
    "\n",
    "response = requests.get(product_urls[0])\n",
    "html = response.content\n",
    "\n",
    "soup = BeautifulSoup(html, 'html.parser')"
   ]
  },
  {
   "cell_type": "code",
   "outputs": [],
   "source": [
    "url= \"https://www.gifthampersuk.co.uk/non-alcoholic-hampers\"\n",
    "\n",
    "response = requests.get(url)\n",
    "html = response.content\n",
    "soup = BeautifulSoup(html, 'html.parser')\n",
    "file_name=soup.find('h1', class_='category-name').text"
   ],
   "metadata": {
    "collapsed": false,
    "ExecuteTime": {
     "end_time": "2024-03-16T16:06:47.196803Z",
     "start_time": "2024-03-16T16:06:45.412157Z"
    }
   },
   "id": "e4b89381159bf6d3",
   "execution_count": 10
  },
  {
   "cell_type": "code",
   "outputs": [
    {
     "name": "stdout",
     "output_type": "stream",
     "text": [
      "Title: A Special Treat For You Gift Hamper <br/>(Food Hamper)\n",
      "Image Source: https://www.gifthampersuk.co.uk/image/cache/catalog/products-ghuk/2023-gift-hampers/a-special-treat-for-you-gift-hamper-uk-500x614.jpg\n",
      "Price: £118.00\n",
      "Description: Hamper ContentsCotes de Gascogne Sauvignon Blanc (75cl)Cartwright & Butler Strawberry Jam (200g)Cartwright & Butler Finest Marmalade (200g)Sugar Soul Chocolate Covered Orange Peel (223g)James Patricks Liquorice Mix (190g)Cartwright & Butler Cranberry & Rolled Oats (200g)Alchemy Tea H..\n",
      "Title: Afternoon Tea For Two Gift Hamper <br/>(Food Hamper)\n",
      "Image Source: https://www.gifthampersuk.co.uk/image/cache/catalog/products-ghuk/2023-gift-hampers/afternoon-tea-for-two-home-delivery-gift-hamper-uk-500x614.jpg\n",
      "Price: £45.00\n",
      "Description: Hamper ContentsWalkers Chocolate Dessert Collection 120gCartwright & Butler Classic Earl Grey 10’s 30gCartwright & Butler English Afternoon Tea 10’s 30gOriginal Cake Co. Cherry & Almond Topped Slab CakeBon Bon’s Gourmet Shortbread Thins 150gThursday Cottage Strawberry Preserve 112gBon Bo..\n",
      "Title: Alcohol-Free Shimmer Gift Hamper <br/>(Food Hamper)\n",
      "Image Source: https://www.gifthampersuk.co.uk/image/cache/catalog/products-ghuk/2023-gift-hampers/alcohol-free-shimmer-gift-hamper-uk-500x614.jpg\n",
      "Price: £60.00\n",
      "Description: Hamper ContentsBottega White Zero Alcohol 75clHamlet Praline Collection 100gMr Filbert’s Rose Harissa Peanuts 100gMonty Bojangles Choccy Scoffy Truffles 100gBuiteman’s Sun Dried Tomato Biscuits 75gWhite Swirl Chocolate Bar 80gBon Bon’s All Butter Fudge 100gEternal Grocer Dark Chocolate Coated Shortb..\n",
      "Title: Birthday Sweet Treats Gift Hamper <br/>(Food Hamper)\n",
      "Image Source: https://www.gifthampersuk.co.uk/image/cache/catalog/products-ghuk/2023-gift-hampers/birthday-sweet-treats-gift-hampers-uk-500x614.jpg\n",
      "Price: £50.00\n",
      "Description: Hamper Contents\r\n",
      "Van Roy 18 Artisan Chocolate Truffles (285g)\r\n",
      "James Patricks Strawberry Bon Bons (190g)\r\n",
      "YOKOKO Lime & Chilli Luxury Dark Chocolate (100g)\r\n",
      "Flower & White Meringue Kisses (100g)\r\n",
      "Luxury Gift Hamper Box \r\n",
      "Gift Tag & Message\r\n",
      "Free UK Delivery..\n",
      "Title: Birthday Sweetness Gift Hamper <br/>(Food Hamper)\n",
      "Image Source: https://www.gifthampersuk.co.uk/image/cache/catalog/products-ghuk/2023-gift-hampers/birthday-sweetness-gift-hamper-uk-500x614.jpg\n",
      "Price: £42.00\n",
      "Description: Hamper ContentsElizabeth Shaw Salted Caramel Milk Chocolate Biscuits (150g)YOKOKO Happy Birthday Luxury Milk Chocolate (100g)James Patricks Strawberry Bon Bons (190g)Rainbow Drops (32g)Love Hearts Dip (23g)Popcorn Shed Birthday Cake (24g)Gingerbread Jack (25g)Craft Delivery Box..\n",
      "Title: Celebrate In Style Gift Hamper <br/>(Food Hamper)\n",
      "Image Source: https://www.gifthampersuk.co.uk/image/cache/catalog/products-ghuk/2024-gift-hampers/celebrate-in-style-gift-hampers-uk-2024-500x614.jpg\n",
      "Price: £225.00\n",
      "Description: Hamper Contents\r\n",
      "Cambrook Brilliantly Caramelised Sesame Peanuts 80g  ℮Cartwright & Butler Chocolate Wafer Rounds 120g  ℮Cartwright & Butler English Breakfast Tea 90g  ℮Claire's Handmade Apricot & Apple Chutney 200g  ℮Claire's Handmade Fine Cut Orange Marmalade 227g&n..\n",
      "Title: Cheese and Wine Deli Slate Gift Hamper <br/>(Food Hamper)\n",
      "Image Source: https://www.gifthampersuk.co.uk/image/cache/catalog/products-ghuk/2024-gift-hampers/cheese-and-wine-deli-dream-gift-hamper-uk-2024-500x614.jpg\n",
      "Price: £50.00\n",
      "Description: Hamper ContentsArran Fine Foods Tomato & Red Pepper Chutney 185g  ℮Long Clawson Blue Stilton Wedge 150gMOR Wholemeal Spelt & Sourdough Snap Crackers 115g  ℮The Mouse House Finest Vintage English Cheddar Truckle 200gThe Mouse House Red Leicester Truckle 190gCabernet Sauvignon MG Est..\n",
      "Title: Chocolate Mountain Gift Hamper <br/>(Food Hamper)\n",
      "Image Source: https://www.gifthampersuk.co.uk/image/cache/catalog/products-ghuk/2023-gift-hampers/the-chocolate-mountain-gift-hamper-uk-500x614.jpg\n",
      "Price: £59.00\n",
      "Description: Hamper ContentsLove Popcorn Double Chocolate Popcorn 100gGnaw Mochaccino Hot Chocolate Stirrer 45gMilk Chocolate Star 50gMighty Fine Sicilian Lemon White Chocolate Honeycomb Bar 30gLily O’Brien’s Creamy Caramel & Sea Salt 120gMr Filbert’s Chocolate Orange Nut Mix 75gBon Bon’s Chocolate Orange Fu..\n",
      "Title: Fantastic Connoisseur Feast Gift Hamper <br/>(Food Hamper)\n",
      "Image Source: https://www.gifthampersuk.co.uk/image/cache/catalog/products-ghuk/2023-gift-hampers/the-fantastic-connoisseur-feast-gift-hamper-uk-500x614.jpg\n",
      "Price: £182.00\n",
      "Description: Hamper ContentsMendoza Malbec (75clAdalina Italia Prosecco (75cl)Cartwright & Butler Water Biscuits (150g)Cartwright & Butler Cheese Crumbles (75g)Shas Fig & Honey Chutney(240g)Sugar Soul Chocolate Covered Coffee Beans (238g)Cartwright & Butler Chocolate Drop Shortbread Rounds (200g)..\n",
      "Title: Get Well Sunshine Gift Hamper <br/>(Food Hamper)\n",
      "Image Source: https://www.gifthampersuk.co.uk/image/cache/catalog/products-ghuk/2023-gift-hampers/get-well-sunshine-gift-hamper-uk-500x614.jpg\n",
      "Price: £50.00\n",
      "Description: Hamper ContentsAll Around The Fire Hot Chocolate Stick (37g)Borders Lemon Drizzle Melts (150g)Devine Dark Chocolate Bar (35g)James Patricks Jelly Beans (230g)Mini Gingerbread ManSugar Soul Honeycomb Shards (75g)YOKOKO Honeycomb Luxury Milk Chocolate (100g)Luxury Gift Hamper Box..\n",
      "Title: Gluten Free & Vegan Feast Gift Hampe... <br/>(Food Hamper)\n",
      "Image Source: https://www.gifthampersuk.co.uk/image/cache/catalog/products-ghuk/2023-gift-hampers/gluten-free-vegan-feast-gift-hamper-uk-500x614.jpg\n",
      "Price: £49.00\n",
      "Description: Hamper ContentsAlfonso the Grape 75clJoe & Seph’s Vegan Salted Caramel Popcorn 32gSweet F.A Gluten-Free & Vegan Peanut Butter Cookies 125gVan Roy Coffee Creams 90gBrown Bag Lightly Salted Crisps 150gGnaw Orange Crunch Oat Mi!lk Chocolate Bar 100gButtermilk Plant Powered Salted Caramel Cups 1..\n",
      "Title: Gluten Free Celebration Gift Hamper <br/>(Food Hamper)\n",
      "Image Source: https://www.gifthampersuk.co.uk/image/cache/catalog/products-ghuk/2023-gift-hampers/gluten-free-celebration-gift-hamper-uk-500x614.jpg\n",
      "Price: £42.00\n",
      "Description: Hamper ContentsBonds Mint Cremes (150g)Farmhouse Biscuits Gluten Free Oat and Cranberry (150g)Feel Good Sweets Gluten Free (300g)Rainbow Drops (32g)Mighty Fine Honeycomb Bar (30g)Popcorn Shed Mini Pop (20g)Craft Delivery Box..\n",
      "Title: Gourmet Afternoon Tea Party Gift Hamper <br/>(Food Hamper)\n",
      "Image Source: https://www.gifthampersuk.co.uk/image/cache/catalog/products-ghuk/2023-gift-hampers/gourmet-afternoon-tea-delivery-gift-hampers-uk-500x614.jpg\n",
      "Price: £85.00\n",
      "Description: Hamper Contents\r\n",
      "Alchemy Tea Albion Breakfast Blend, infuser & storage bag (approx. 30 cups)Cartwright & Butler Cranberry & Rolled Oats (200g)\r\n",
      "Van Roy 18 Artisan Chocolate Truffles (285g)\r\n",
      "James Patricks Vanilla Fudge (190g)\r\n",
      "Monty Bojangles Choccy Scoffy Cocoa Dusted Truffles (150g)\r\n",
      "L..\n",
      "Title: Happy Birthday To You! Gift Hamper <br/>(Food Hamper)\n",
      "Image Source: https://www.gifthampersuk.co.uk/image/cache/catalog/products-ghuk/2023-gift-hampers/happy-birthday-to-you-gift-hamper-uk-500x614.jpg\n",
      "Price: £40.00\n",
      "Description: Hamper ContentsYOKOKO Happy Birthday Luxury Milk Chocolate (100g)James Patricks Vanilla Fudge (190g)James Patricks Jelly Beans (170g)Gingerbread Jack (25g)Borders Chocolate Crumbles (150g)Double LollyDrumstick LollyRefresher Chew Bar (18g)Craft Delivery Box..\n",
      "Title: Sparkling Celebration Gift Hamper <br/>(Food Hamper)\n",
      "Image Source: https://www.gifthampersuk.co.uk/image/cache/catalog/products-ghuk/2023-gift-hampers/sparkling-celebration-gift-hampers-uk-500x614.jpg\n",
      "Price: £84.00\n",
      "Description: Hamper Contents\r\n",
      "Adalina Italia Prosecco (75cl) \r\n",
      "Cartwright & Butler Chocolate Drop Shortbread Rounds (200g) \r\n",
      "James Patricks Strawberry Bon Bons (190g) \r\n",
      "Cartwright & Butler Chocolate Wafer Crispies (140g) \r\n",
      "Sugar Soul Honeycomb (75g) \r\n",
      "James Patricks Jelly Beans (170g)\r\n",
      "\r\n",
      "Luxury Gift Hamp..\n",
      "Title: Special Treats with Red Wine Gift Hamper <br/>(Food Hamper)\n",
      "Image Source: https://www.gifthampersuk.co.uk/image/cache/catalog/products-ghuk/2023-gift-hampers/all-occasions-treats-red-wine-gift-hamper-uk-500x614.jpg\n",
      "Price: £53.00\n",
      "Description: Hamper ContentsVentopuro Reserva Cabernet Sauvignon 75clBon Bon’s All Butter Fudge 100gJacquot Fancy Truffles Bittersweet Classic 200gBuiteman’s Gouda Biscuits Gold Box 75gEternal Grocer Dark Chocolate Coated Shortbread 70gReids Spiced Fruit Shortbread 150gWhite Swirl Chocolate Bar 80gWhite Choc Sta..\n",
      "Title: Special Treats with White Wine Gift Hamp... <br/>(Food Hamper)\n",
      "Image Source: https://www.gifthampersuk.co.uk/image/cache/catalog/products-ghuk/2023-gift-hampers/all-occasions-treats-white-wine-gift-hamper-uk-500x614.jpg\n",
      "Price: £53.00\n",
      "Description: Hamper ContentsVentopuro Reserva Sauvignon Blanc 75clBon Bon’s All Butter Fudge 100gJacquot Fancy Truffles Bittersweet Classic 200gBuiteman’s Gouda Biscuits Gold Box 75gEternal Grocer Dark Chocolate Coated Shortbread 70gReids Spiced Fruit Shortbread 150gWhite Swirl Chocolate Bar 80gWhite Choc Star w..\n",
      "Title: Sunshine and Smiles Gift Hamper <br/>(Food Hamper)\n",
      "Image Source: https://www.gifthampersuk.co.uk/image/cache/catalog/products-ghuk/2024-gift-hampers/sunshine-and-smiles-gift-hamper-uk-2024-500x614.jpg\n",
      "Price: £120.00\n",
      "Description: Hamper Contents\r\n",
      "Clarence & Bean Milk Chocolate Honeycomb 100gFairfields Farm Cheese & Onion Crisps 150g  ℮Fionagh's Seeded Sourdough Crackers 100gGrandma Wild's All Butter Shortbread Melts 150g  ℮Grandma Wild's Mature Cheddar Oaty Biscuits for Cheese 130g  ℮Holdsworth Exquisi..\n",
      "Title: Sweet Shop Treasures Gift Hamper <br/>(Food Hamper)\n",
      "Image Source: https://www.gifthampersuk.co.uk/image/cache/catalog/products-ghuk/2023-gift-hampers/sweet-shop-treasures-gift-hamper-uk-500x614.jpg\n",
      "Price: £56.00\n",
      "Description: Hamper ContentsForest Feast Salted Dark Chocolate AlmondsJames Patrick’s Traditionally Tasty Liquorice MixCartwright & Butler’s Salted Caramel ShortbreadPopcorn Shed’s Mini Pop PopcornDark Chocolate Mint CreamsYOKOKO Lime & Chilli Dark Chocolate..\n",
      "Title: Sweet Treat Mountain Gift Hamper <br/>(Food Hamper)\n",
      "Image Source: https://www.gifthampersuk.co.uk/image/cache/catalog/products-ghuk/2023-gift-hampers/sweet-treat-mountain-gift-hamper-uk-500x614.jpg\n",
      "Price: £99.00\n",
      "Description: Hamper ContentsFlutter Scotch Monty Bojangles TrufflesThomas Fudge’s Dark Chocolate FlorentinesPopcorn Shed Mini PopcornDark Chocolate Mint CremesCartwright & Butler Salted Caramel ShortbreadYOKOKO Lime and Chilli Dark ChocolateFlower & White Meringue KissesJames Patrick’s Traditional Liquor..\n",
      "Title: Thank You Very Much! Gift Hamper <br/>(Food Hamper)\n",
      "Image Source: https://www.gifthampersuk.co.uk/image/cache/catalog/products-ghuk/2023-gift-hampers/thank-you-very-much-gift-hamper-uk-500x614.jpg\n",
      "Price: £40.00\n",
      "Description: Hamper ContentsYOKOKO Thank You Luxury Milk Chocolate (100g)James Patricks Vanilla Fudge (190g)Borders Chocolate Crumbles (150g)Bonds Chocolate Raisins (150g)Popcorn Shed Mini Pop (20g)Craft Delivery Box..\n",
      "Title: The Funky Ploughman's Gift Hamper <br/>(Food Hamper)\n",
      "Image Source: https://www.gifthampersuk.co.uk/image/cache/catalog/products-ghuk/2023-gift-hampers/funky-ploughmans-gift-hamper-uk-500x614.jpg\n",
      "Price: £38.00\n",
      "Description: Hamper ContentsToast American Pale Ale 330mlFreedom Brewery Golden Bittersweet Pilsner Lager 330mMouse House Smoked Cheddar 100gCapital Crisps Sea Salt 75gLove Popcorn Sea Salt & Cracked Black Pepper Popcorn 20gOlina’s Cracked Pepper Wafer Crackers 100gVIP Nuts Hot Toffee Nuts 110gMade for Drink..\n",
      "Title: To Perk You Up Gift Hamper <br/>(Food Hamper)\n",
      "Image Source: https://www.gifthampersuk.co.uk/image/cache/catalog/products-ghuk/2023-gift-hampers/to-perk-you-up-gift-hampers-uk-500x614.jpg\n",
      "Price: £43.00\n",
      "Description: Hamper Contents\r\n",
      "Anna’s Cappuccino Thins (150g)\r\n",
      "Bonds Mint Cremes (150g)\r\n",
      "James Patricks Vanilla Fudge (190g)\r\n",
      "Life & Soul Brazilian Coffee (250g)\r\n",
      "YOKOKO Salted Caramel Milk Chocolate (100g)\r\n",
      "\r\n",
      "Luxury Gift Hamper Box \r\n",
      "Gift Tag & Message\r\n",
      "Free UK Delivery..\n",
      "Title: Totally Pink and Gorgeous Gift Hamper <br/>(Food Hamper)\n",
      "Image Source: https://www.gifthampersuk.co.uk/image/cache/catalog/products-ghuk/2023-gift-hampers/totally-pink-and-gorgeous-gift-hamper-uk-500x614.jpg\n",
      "Price: £69.00\n",
      "Description: Hamper ContentsBottega Poeti Rosé Prosecco DOC 75clAsk Mummy & Daddy Victoria Sponge Sweets 100gMiss American Pie Mississippi Mud Pie Cookies 45gBon Bon’s Viennese Biscuits 150gJoe & Seph’s Prosecco Popcorn Pyramid 30gBon Bon’s Strawberry Bonbons 168gStrawberry Swirl White Chocolate Bar 80gV..\n",
      "Title: Tribute To Cheese and Wine Gift Hamper <br/>(Food Hamper)\n",
      "Image Source: https://www.gifthampersuk.co.uk/image/cache/catalog/products-ghuk/2023-gift-hampers/tribute-to-cheese-and-wine-gift-hamper-uk-500x614.jpg\n",
      "Price: £46.00\n",
      "Description: Hamper ContentsCarta Roja Tempranillo Crianza 75clMouse House Vintage Cheddar 100gMouse House Caramelised Onion Cheddar 100gCambrook Giant Chilli Corn 32gMrs Darlington’s Spicy Tomato & Sticky Onion Chutney 120gPeter’s Yard Original Sourdough Crackers 90gYummy Peanuts BBQ 100gYorkshire Crisps Ch..\n",
      "Title: Vegan Bounty Gift Hamper <br/>(Food Hamper)\n",
      "Image Source: https://www.gifthampersuk.co.uk/image/cache/catalog/products-ghuk/2023-gift-hampers/vegan-bounty-gift-hamper-uk-500x614.jpg\n",
      "Price: £49.00\n",
      "Description: Hamper ContentsButterm!lk (plant-powered) Salted Caramel CupsFeel Good Sweets! VeganLove Raw Chocolate Butter Cups Salted CaramelPopcorn Shed Mini Pop! Sea SaltRhythm 108 Coconut CrunchYOKOKO Peppermint Flake Dark ChocolateCraft Delivery Box..\n",
      "Title: Weekend Banquet Gift Hamper <br/>(Food Hamper)\n",
      "Image Source: https://www.gifthampersuk.co.uk/image/cache/catalog/products-ghuk/2023-gift-hampers/weekend-banquet-gift-hampers-uk-500x614.jpg\n",
      "Price: £125.00\n",
      "Description: Hamper Contents\r\n",
      "Mendoza Malbec (75cl)\r\n",
      "Cartwright & Butler Chocolate Drop Shortbread Rounds (200g)\r\n",
      "James Patricks Vanilla Fudge (190g)\r\n",
      "Cartwright & Butler Chocolate Wafer Crispies (140g)\r\n",
      "Life & Soul Brazilian Coffee (250g)\r\n",
      "Cambrook Caramelised Cashews (80g)\r\n",
      "Cartwright & Butler ..\n",
      "Title: Birthday Banquet Gift Hamper <br/>(Food Hamper)\n",
      "Image Source: https://www.gifthampersuk.co.uk/image/cache/catalog/products-ghuk/2024-gift-hampers/the-birthday-banquet-gift-hamper-uk-2024-500x614.jpg\n",
      "Price: £69.00\n",
      "Description: Hamper Contents\r\n",
      "Arran Fine Foods Caramelised Red Onion Chutney 195g  ℮Brown Bag Crisps Smoked Bacon Crisps 150g  ℮Yorkshire Popcorn Salt & Sweet Popcorn 40g  ℮Hamlet Excelcium Chocolate Assortment 180gMaxwell & Franks Dundee Slabnibnibs Rosemary Big Minis Breadsticks for Dipp..\n",
      "Title: A Feast for All Occasions Gift Hamper <br/>(Food Hamper)\n",
      "Image Source: https://www.gifthampersuk.co.uk/image/cache/catalog/products-ghuk/2024-gift-hampers/feast-for-all-seasons-gift-hampers-uk-2024-500x614.jpg\n",
      "Price: £178.00\n",
      "Description: Hamper Contents\r\n",
      "Cambrook Chilli & Garlic Mixed Nuts with Corn 65gClaire's Handmade Red Onion Marmalade 200g  ℮Claire's Handmade Strawberry Extra Jam 227g  ℮Crunch & Crumble Shortbread Biscuits 150gEdinburgh Tea & Coffee Company Medium Roast Ground Coffee in Kraft Bag with Red ..\n",
      "Title: The Mini Celebration Gift Hamper <br/>(Food Hamper)\n",
      "Image Source: https://www.gifthampersuk.co.uk/image/cache/catalog/products-ghuk/2023-gift-hampers/festive-mini-celebration-gift-hamper-uk-500x614.jpg\n",
      "Price: £50.00\n",
      "Description: Hamper Contents\r\n",
      "\r\n",
      "Pronol Prosecco 20clBottega Prosecco Gold 20clBon Bon’s All Butter Fudge 100gJacquot Fancy Truffles Bittersweet Classic 200g Buiteman’s Gouda Biscuits 75gEternal Grocer Dark Chocolate Coated Shortbread 70g Reids Spiced Fruit Shortbread 150gWhite Swirl Chocolate Bar 80g White Choc ..\n",
      "Title: West Country Delights (Cheese & Cide... <br/>(Food Hamper)\n",
      "Image Source: https://www.gifthampersuk.co.uk/image/cache/catalog/products-ghuk/2024-gift-hampers/west-counry-delights-cider-cheese-gift-hamper-uk-2024-500x614.jpg\n",
      "Price: £55.00\n",
      "Description: Hamper Contents\r\n",
      "Claire's Handmade Vintage Farmhouse Chutney 200gMOR Cornmeal and Poppy Seed Snap Crackers 115g  ℮Perry's Somerset Cider 'Morgan' 500ml 6.0% volPerry's Somerset Vintage Cider 500ml 6.7% volThe Kindness Bakery Cheese Straws 100g  ℮The Mouse House Finest Vintage English Chedd..\n",
      "Title: To Make You Happy - Gift Hamper <br/>(Food Hamper)\n",
      "Image Source: https://www.gifthampersuk.co.uk/image/cache/catalog/products-ghuk/2024-gift-hampers/to-make-you-happy-gift-hamper-uk-2024-500x614.jpg\n",
      "Price: £42.00\n",
      "Description: Hamper Contents\r\n",
      "Cambrook Brilliantly Giant Chilli Corn 32g  ℮Frank's Luxury All Butter Shortbread Mini Bites 50g  ℮House of Fudge Chocolate Fudge Bar 120gMighty Fine Sicilian Lemon White Chocolate Honeycomb Bar 30g  ℮Oloves Lemon & Rosemary Natural Green Pitted Olives 30g  ℮..\n",
      "Title: Happy Birthday Blush - Gift Hamper <br/>(Food Hamper)\n",
      "Image Source: https://www.gifthampersuk.co.uk/image/cache/catalog/products-ghuk/2024-gift-hampers/happy-birthday-blush-gift-hampers-uk-2024-500x614.jpg\n",
      "Price: £43.00\n",
      "Description: Hamper Contents\r\n",
      "Crunch & Crumble Shortbread Biscuit with Chocolate Candy BeansGold Candle for CakeMallow & Marsh Raspberry Marshmallow Bar Coated in 70% Dark Chocolate 35g ℮Maxwell & Franks Mini Chocolate Loaf CakePopcorn Shed Birthday Cake Snack Pack 24g ℮Whitakers Happy Birthday Choco..\n",
      "Title: Just Because It's Your Birthday, Gift Ha... <br/>(Food Hamper)\n",
      "Image Source: https://www.gifthampersuk.co.uk/image/cache/catalog/products-ghuk/2024-gift-hampers/just-because-its-your-birthday-gift-hampers-uk-2024-500x614.jpg\n",
      "Price: £43.00\n",
      "Description: Hamper Contents\r\n",
      "The Great British Cellar Happy Beer-thday Golden Premium Ale 500mlBrown Bag Crisps Sea Salt & Malt Vinegar Crisps 40g  ℮Crunch & Crumble Shortbread Biscuit with Chocolate Candy BeansGNAW Milk Chocolate Bar 100g  ℮Gold Candle for CakeJoe & Seph's Milk Chocolate ..\n",
      "Title: The Classic Thank You Gift Hamper <br/>(Food Hamper)\n",
      "Image Source: https://www.gifthampersuk.co.uk/image/cache/catalog/products-ghuk/2023-gift-hampers/classic-thank-you-gift-hamper-uk-500x614.jpg\n",
      "Price: £49.00\n",
      "Description: Hamper Contents\r\n",
      "Otra Tierra Merlot 75clTaste Cranberry & Pumpkin Seed Biscuits 50gBon Bon’s All Butter Fudge 100gCambrook Caramelised Seasame Peanuts 45gExcelcium Pralines 180gEternal Grocer Dark Chocolate Coated Shortbread 70gOrange Swirl Chocolate Bar 80gPacked in a Black Gift Box..\n",
      "Title: The Country Fayre Gift Hamper <br/>(Food Hamper)\n",
      "Image Source: https://www.gifthampersuk.co.uk/image/cache/catalog/products-ghuk/2024-gift-hampers/the-ultimate-bonanza-gift-hamper-uk-2024-500x614.jpg\n",
      "Price: £96.00\n",
      "Description: Hamper ContentsBrown Bag Crisps West Country Farmhouse Cheddar & Onion Crisps 150g  ℮Cartwright & Butler Chocolate Wafer Rounds 120g  ℮Kingsdown Elderflower Sparkle 750ml  ℮Linden Lady Milk Chocolate Covered Marshmallows 125gLove Popcorn Toffee Sharing Bag 170g  ℮Maxwell ..\n",
      "Title: Farmhouse Favourites Luxury Gift Hamper <br/>(Food Hamper)\n",
      "Image Source: https://www.gifthampersuk.co.uk/image/cache/catalog/products-ghuk/2024-gift-hampers/deli-delights-cheese-gift-hamper-uk-2024-500x614.jpg\n",
      "Price: £80.00\n",
      "Description: Hamper Contents\r\n",
      "Barber's Farmhouse Mature Cheddar Truckle 200g  ℮Grate Britain British Smoked Cheese Crackers in Pouch 45g  ℮Miller's Harvest Three Fruit Apple, Sultanas & Date Crackers 125g  ℮Mr Filbert's Lemon & Oregano Olives 50gMr Filbert's Sea Salt & Herb Mixed Nuts 40gOt..\n"
     ]
    }
   ],
   "source": [
    "# products = soup.find_all('div', class_='product-thumb layout1')\n",
    "# \n",
    "# for product in products:\n",
    "#     image_tag = product.find('img')\n",
    "#     img_src = image_tag['src']\n",
    "#     title = image_tag['title']\n",
    "#     \n",
    "#     price_tag = product.find('p', class_='price')\n",
    "#     description_tag = product.find('p', class_='product-des')\n",
    "#     price = price_tag.text.strip() \n",
    "#     description = description_tag.text.strip()\n",
    "#     \n",
    "#     print(\"Title:\", title)\n",
    "#     print(\"Image Source:\", img_src)\n",
    "#     print(\"Price:\", price)\n",
    "#     print(\"Description:\", description)"
   ],
   "metadata": {
    "collapsed": false,
    "ExecuteTime": {
     "end_time": "2024-03-16T14:18:36.713672Z",
     "start_time": "2024-03-16T14:18:36.676107Z"
    }
   },
   "id": "3c376328ea84625d",
   "execution_count": 11
  },
  {
   "cell_type": "code",
   "outputs": [
    {
     "name": "stdout",
     "output_type": "stream",
     "text": [
      "JSON file created successfully!\n"
     ]
    }
   ],
   "source": [
    "import json\n",
    "\n",
    "# Initialize an empty list to store the extracted data\n",
    "products_data = []\n",
    "products = soup.find_all('div', class_='product-thumb layout1')\n",
    "# Iterate through each product\n",
    "for product in products:\n",
    "    image_tag = product.find('img')\n",
    "    img_src = image_tag['src']\n",
    "    title = image_tag['title']\n",
    "    \n",
    "    price_tag = product.find('p', class_='price')\n",
    "    description_tag = product.find('p', class_='product-des')\n",
    "    price = price_tag.text.strip() \n",
    "    description = description_tag.text.strip()\n",
    "    \n",
    "    # Create a dictionary for the current product\n",
    "    product_data = {\n",
    "        \"title\": title,\n",
    "        \"image_source\": img_src,\n",
    "        \"price\": price,\n",
    "        \"description\": description\n",
    "    }\n",
    "    \n",
    "    # Append the product data to the list\n",
    "    products_data.append(product_data)\n",
    "\n",
    "# Define the file path for the JSON file\n",
    "json_file_path = f'rawdata/{file_name}.json'\n",
    "\n",
    "# Write the extracted data to a JSON file\n",
    "with open(json_file_path, 'w') as json_file:\n",
    "    json.dump(products_data, json_file, indent=4)\n",
    "\n",
    "print(\"JSON file created successfully!\")"
   ],
   "metadata": {
    "collapsed": false,
    "ExecuteTime": {
     "end_time": "2024-03-16T16:06:53.454171Z",
     "start_time": "2024-03-16T16:06:53.436789Z"
    }
   },
   "id": "75f931ea57b2ce12",
   "execution_count": 11
  },
  {
   "cell_type": "code",
   "outputs": [
    {
     "name": "stdout",
     "output_type": "stream",
     "text": [
      "Chocolate Mountain Gift Hamper\n",
      "£59.00\n",
      "---\n",
      "Indulge in a heavenly ascent of flavor with our 'Chocolate Mountain' hamper. This sweet treat is a chocolate lover's dream, featuring a scrumptious selection of chocolates that will take your taste buds on a delightful journey to the summit of satisfaction. Free UK delivery makes this the perfect hassle-free gift.\n",
      "---\n",
      "* Love Popcorn Double Chocolate Popcorn 100g\n",
      "* Gnaw Mochaccino Hot Chocolate Stirrer 45g\n",
      "* Milk Chocolate Star 50g\n",
      "* Mighty Fine Sicilian Lemon White Chocolate Honeycomb Bar 30g\n",
      "* Lily O’Brien’s Creamy Caramel & Sea Salt 120g\n",
      "* Mr Filbert’s Chocolate Orange Nut Mix 75g\n",
      "* Bon Bon’s Chocolate Orange Fudge 160g\n",
      "* Reids Chocolate Chunk Shortbread 150g\n",
      "* Monty Bojangles Choccy Scoffy Truffles 100g\n",
      "* Cartwright & Butler Chocolate Wafer Rounds 120g\n",
      "* Miss American Pie Boston Cream Pie Cookies 45g\n",
      "* Gnaw Dark Chocolate Bar 100g\n",
      "* Packed in a Brown Gift Box\n"
     ]
    }
   ],
   "source": [
    "print(soup.find('h1', class_='product-name').text)\n",
    "print(soup.find('span', class_='placeholder-price-holder').text)\n",
    "print(\"---\")\n",
    "if soup.find('div', id='prod-short-desc') is not None:\n",
    "    print(soup.find('div', id='prod-short-desc').text)\n",
    "description_div = soup.find('div', id='tab-description')\n",
    "description = description_div.find_all('li')\n",
    "print(\"---\")\n",
    "for i in description:\n",
    "    print(f\"* {i.text}\")"
   ],
   "metadata": {
    "collapsed": false,
    "ExecuteTime": {
     "end_time": "2024-03-16T13:56:48.472730Z",
     "start_time": "2024-03-16T13:56:48.446658Z"
    }
   },
   "id": "deb452d1aae3b8bd",
   "execution_count": 2
  },
  {
   "cell_type": "code",
   "outputs": [
    {
     "name": "stdout",
     "output_type": "stream",
     "text": [
      "1710597408.4822989\n"
     ]
    }
   ],
   "source": [
    "import time\n",
    "import datetime\n",
    "\n",
    "#print time\n",
    "print(time.time())"
   ],
   "metadata": {
    "collapsed": false,
    "ExecuteTime": {
     "end_time": "2024-03-16T13:56:48.487566Z",
     "start_time": "2024-03-16T13:56:48.477435Z"
    }
   },
   "id": "5d73e1e52380d1f4",
   "execution_count": 3
  },
  {
   "cell_type": "code",
   "outputs": [
    {
     "name": "stdout",
     "output_type": "stream",
     "text": [
      "1709255520.0\n"
     ]
    }
   ],
   "source": [
    "date = \"1 Mar 2024 06:42:00\"\n",
    "obj = time.strptime(date, \"%d %b %Y %H:%M:%S\")\n",
    "#time in sec\n",
    "print(time.mktime(obj)) "
   ],
   "metadata": {
    "collapsed": false,
    "ExecuteTime": {
     "end_time": "2024-03-16T13:56:48.501646Z",
     "start_time": "2024-03-16T13:56:48.492606Z"
    }
   },
   "id": "8af2f08fad304b91",
   "execution_count": 4
  }
 ],
 "metadata": {
  "kernelspec": {
   "display_name": "Python 3",
   "language": "python",
   "name": "python3"
  },
  "language_info": {
   "codemirror_mode": {
    "name": "ipython",
    "version": 2
   },
   "file_extension": ".py",
   "mimetype": "text/x-python",
   "name": "python",
   "nbconvert_exporter": "python",
   "pygments_lexer": "ipython2",
   "version": "2.7.6"
  }
 },
 "nbformat": 4,
 "nbformat_minor": 5
}
